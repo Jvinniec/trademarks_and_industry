{
 "nbformat": 4,
 "nbformat_minor": 2,
 "metadata": {
  "language_info": {
   "name": "python",
   "codemirror_mode": {
    "name": "ipython",
    "version": 3
   },
   "version": "3.7.7-final"
  },
  "orig_nbformat": 2,
  "file_extension": ".py",
  "mimetype": "text/x-python",
  "name": "python",
  "npconvert_exporter": "python",
  "pygments_lexer": "ipython3",
  "version": 3,
  "kernelspec": {
   "name": "python37664bit32a074f4dcce46e88b575ddb89bf7686",
   "display_name": "Python 3.7.6 64-bit"
  }
 },
 "cells": [
  {
   "cell_type": "code",
   "execution_count": 4,
   "metadata": {},
   "outputs": [],
   "source": [
    "# Setup the python path\n",
    "import os\n",
    "import sys\n",
    "sys.path.append(os.getcwd()+'/../')\n",
    "import tm_helper as tmh\n",
    "import pandas as pd\n",
    "import re\n",
    "import glob\n",
    "from multiprocessing import Pool"
   ]
  },
  {
   "cell_type": "code",
   "execution_count": 5,
   "metadata": {},
   "outputs": [],
   "source": [
    "# Function to do the actual parsing\n",
    "pref = 'regex_'\n",
    "def parse_tm_data(fl):\n",
    "    # Parse the file\n",
    "    parser = tmh.TmParser(verbose=True)\n",
    "    df = pd.DataFrame.from_dict(parser.parse_cases(fl), orient='index')\n",
    "    \n",
    "    # Save the result\n",
    "    outfile = outfile = os.path.basename(fl).split('.xml')[0] + '.pkl'\n",
    "    df.to_pickle(outfile)\n",
    "    return outfile"
   ]
  },
  {
   "cell_type": "code",
   "execution_count": 6,
   "metadata": {},
   "outputs": [
    {
     "output_type": "stream",
     "name": "stdout",
     "text": "FINAL processed: 16558\napc200101.pkl\nFINAL processed: 17817\napc200102.pkl\nFINAL processed: 30921\napc200103.pkl\nFINAL processed: 14618\napc200104.pkl\nFINAL processed: 3199\napc200105.pkl\nFINAL processed: 29368\napc200106.pkl\nFINAL processed: 73458\napc200107.pkl\nFINAL processed: 32582\napc200108.pkl\nFINAL processed: 32399\napc200109.pkl\nFINAL processed: 40971\napc200110.pkl\nFINAL processed: 12223\napc200111.pkl\nFINAL processed: 2836\napc200112.pkl\nFINAL processed: 28996\napc200113.pkl\nFINAL processed: 46278\napc200114.pkl\nFINAL processed: 25931\napc200115.pkl\nFINAL processed: 30636\napc200116.pkl\nFINAL processed: 37261\napc200117.pkl\nFINAL processed: 13700\napc200118.pkl\nFINAL processed: 2344\napc200119.pkl\nFINAL processed: 15068\napc200120.pkl\nFINAL processed: 46091\napc200121.pkl\nFINAL processed: 34075\napc200122.pkl\nFINAL processed: 36738\napc200123.pkl\nFINAL processed: 39446\napc200124.pkl\nFINAL processed: 12846\napc200125.pkl\nFINAL processed: 4112\napc200126.pkl\nFINAL processed: 27784\napc200127.pkl\nFINAL processed: 41574\napc200128.pkl\nFINAL processed: 31763\napc200129.pkl\nFINAL processed: 30684\napc200130.pkl\nFINAL processed: 37390\napc200131.pkl\nFINAL processed: 13177\napc200201.pkl\nFINAL processed: 1629\napc200202.pkl\nFINAL processed: 24774\napc200203.pkl\nFINAL processed: 38313\napc200204.pkl\nFINAL processed: 32863\napc200205.pkl\nFINAL processed: 28964\napc200206.pkl\nFINAL processed: 39763\napc200207.pkl\nFINAL processed: 13017\napc200208.pkl\nFINAL processed: 3558\napc200209.pkl\nFINAL processed: 29383\napc200210.pkl\nFINAL processed: 48063\napc200211.pkl\nFINAL processed: 30479\napc200212.pkl\nFINAL processed: 28499\napc200213.pkl\nFINAL processed: 36835\napc200214.pkl\nFINAL processed: 13376\napc200215.pkl\nFINAL processed: 3493\napc200216.pkl\nFINAL processed: 15307\napc200217.pkl\nFINAL processed: 46086\napc200218.pkl\nFINAL processed: 30553\napc200219.pkl\nFINAL processed: 32913\napc200220.pkl\nFINAL processed: 37404\napc200221.pkl\nFINAL processed: 14041\napc200222.pkl\nFINAL processed: 3628\napc200223.pkl\nFINAL processed: 26085\napc200224.pkl\nFINAL processed: 44603\napc200225.pkl\nFINAL processed: 29845\napc200226.pkl\nFINAL processed: 31291\napc200227.pkl\nFINAL processed: 41587\napc200228.pkl\nFINAL processed: 11852\napc200229.pkl\nFINAL processed: 3387\napc200301.pkl\nFINAL processed: 25082\napc200302.pkl\nFINAL processed: 48719\napc200303.pkl\nFINAL processed: 34183\napc200304.pkl\nFINAL processed: 35621\napc200305.pkl\nFINAL processed: 36222\napc200306.pkl\nFINAL processed: 15195\napc200307.pkl\nFINAL processed: 5831\napc200308.pkl\nFINAL processed: 26155\napc200309.pkl\nFINAL processed: 55458\napc200310.pkl\nFINAL processed: 36033\napc200311.pkl\nFINAL processed: 32790\napc200312.pkl\nFINAL processed: 42767\napc200313.pkl\nFINAL processed: 14856\napc200314.pkl\nFINAL processed: 4233\napc200315.pkl\nFINAL processed: 29760\napc200316.pkl\nFINAL processed: 56793\napc200317.pkl\nFINAL processed: 34939\napc200318.pkl\nFINAL processed: 34461\napc200319.pkl\nFINAL processed: 44266\napc200320.pkl\nFINAL processed: 14878\napc200321.pkl\nFINAL processed: 5914\napc200322.pkl\nFINAL processed: 34278\napc200323.pkl\nFINAL processed: 52223\napc200324.pkl\nFINAL processed: 32578\napc200325.pkl\nFINAL processed: 32040\napc200326.pkl\nFINAL processed: 42644\napc200327.pkl\nFINAL processed: 11931\napc200328.pkl\nFINAL processed: 5976\napc200329.pkl\nFINAL processed: 32182\napc200330.pkl\nFINAL processed: 48903\napc200331.pkl\nFINAL processed: 37511\napc200401.pkl\nFINAL processed: 29651\napc200402.pkl\nFINAL processed: 37792\napc200403.pkl\nFINAL processed: 11157\napc200404.pkl\nFINAL processed: 3131\napc200405.pkl\nFINAL processed: 28811\napc200406.pkl\nFINAL processed: 51901\napc200407.pkl\nFINAL processed: 30395\napc200408.pkl\nDONE!\n"
    }
   ],
   "source": [
    "# Grab all of the data files\n",
    "datdir = os.getcwd() + '/../data/trademarks_raw_daily/'\n",
    "data_files = sorted(glob.glob(datdir + '/apc*.xml'))\n",
    "\n",
    "# Load the files into a single pandas dataframe\n",
    "# data = dict()\n",
    "# for f,fl in enumerate(data_files):\n",
    "#     print(fl)\n",
    "#     data.update(tmh.parse_cases(fl))\n",
    "# Loop over all the files\n",
    "for fl in data_files:\n",
    "    outfile = parse_tm_data(fl)\n",
    "    print(outfile)\n",
    "\n",
    "print('DONE!')"
   ]
  },
  {
   "cell_type": "code",
   "execution_count": null,
   "metadata": {},
   "outputs": [],
   "source": [
    "df = pd.DataFrame.from_dict(data, orient='index', sorted=True)\n",
    "df.head()"
   ]
  },
  {
   "cell_type": "code",
   "execution_count": null,
   "metadata": {},
   "outputs": [],
   "source": [
    "print(len(data.keys()))\n",
    "print(len(df.index))"
   ]
  },
  {
   "cell_type": "code",
   "execution_count": null,
   "metadata": {},
   "outputs": [],
   "source": [
    "df.to_pickle(f'prelim_data_2020.pkl')"
   ]
  },
  {
   "cell_type": "code",
   "execution_count": null,
   "metadata": {},
   "outputs": [],
   "source": []
  },
  {
   "cell_type": "code",
   "execution_count": null,
   "metadata": {},
   "outputs": [],
   "source": []
  }
 ]
}