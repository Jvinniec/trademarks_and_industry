{
 "cells": [
  {
   "cell_type": "code",
   "execution_count": 1,
   "metadata": {},
   "outputs": [],
   "source": [
    "# Setup the python path\n",
    "import os\n",
    "import sys\n",
    "sys.path.append(os.getcwd()+'/../')\n",
    "import tm_helper as tmh\n",
    "import pandas as pd\n",
    "import re\n",
    "import glob\n",
    "from multiprocessing import Pool"
   ]
  },
  {
   "cell_type": "code",
   "execution_count": 2,
   "metadata": {},
   "outputs": [],
   "source": [
    "# Function to do the actual parsing\n",
    "pref = 'regex_'\n",
    "def parse_tm_data(fl):\n",
    "    # Parse the file\n",
    "    parser = tmh.TmParser(verbose=True)\n",
    "    df = pd.DataFrame.from_dict(parser.parse_cases(fl), orient='index')\n",
    "    \n",
    "    # Save the result\n",
    "    outfile = outfile = os.path.basename(fl).split('.xml')[0] + '.pkl'\n",
    "    df.to_pickle(outfile)\n",
    "    return outfile"
   ]
  },
  {
   "cell_type": "code",
   "execution_count": 6,
   "metadata": {},
   "outputs": [
    {
     "output_type": "stream",
     "name": "stdout",
     "text": "FINAL processed: 37511\napc200401.pkl\nFINAL processed: 29651\napc200402.pkl\nFINAL processed: 37792\napc200403.pkl\nFINAL processed: 11157\napc200404.pkl\nFINAL processed: 3131\napc200405.pkl\nFINAL processed: 28811\napc200406.pkl\nFINAL processed: 51901\napc200407.pkl\nFINAL processed: 30395\napc200408.pkl\nFINAL processed: 31828\napc200409.pkl\nFINAL processed: 42395\napc200410.pkl\nFINAL processed: 11123\napc200411.pkl\nFINAL processed: 3154\napc200412.pkl\nFINAL processed: 27607\napc200413.pkl\nFINAL processed: 48314\napc200414.pkl\nFINAL processed: 32518\napc200415.pkl\nFINAL processed: 29516\napc200416.pkl\nFINAL processed: 41648\napc200417.pkl\nFINAL processed: 12687\napc200418.pkl\nFINAL processed: 4091\napc200419.pkl\nFINAL processed: 27467\napc200420.pkl\nFINAL processed: 57350\napc200421.pkl\nFINAL processed: 33243\napc200422.pkl\nFINAL processed: 29200\napc200423.pkl\nFINAL processed: 44681\napc200424.pkl\nFINAL processed: 12596\napc200425.pkl\nFINAL processed: 3831\napc200426.pkl\nFINAL processed: 26923\napc200427.pkl\nDONE!\n"
    }
   ],
   "source": [
    "# Grab all of the data files\n",
    "datdir = os.getcwd() + '/../data/trademarks_raw_daily/'\n",
    "data_files = sorted(glob.glob(datdir + '/apc2004*.xml'))\n",
    "\n",
    "# Load the files into a single pandas dataframe\n",
    "# data = dict()\n",
    "# for f,fl in enumerate(data_files):\n",
    "#     print(fl)\n",
    "#     data.update(tmh.parse_cases(fl))\n",
    "# Loop over all the files\n",
    "for fl in data_files:\n",
    "    outfile = parse_tm_data(fl)\n",
    "    print(outfile)\n",
    "\n",
    "print('DONE!')"
   ]
  },
  {
   "cell_type": "code",
   "execution_count": 7,
   "metadata": {},
   "outputs": [
    {
     "output_type": "error",
     "ename": "NameError",
     "evalue": "name 'data' is not defined",
     "traceback": [
      "\u001b[0;31m---------------------------------------------------------------------------\u001b[0m",
      "\u001b[0;31mNameError\u001b[0m                                 Traceback (most recent call last)",
      "\u001b[0;32m<ipython-input-7-6ba982035a77>\u001b[0m in \u001b[0;36m<module>\u001b[0;34m\u001b[0m\n\u001b[0;32m----> 1\u001b[0;31m \u001b[0mdf\u001b[0m \u001b[0;34m=\u001b[0m \u001b[0mpd\u001b[0m\u001b[0;34m.\u001b[0m\u001b[0mDataFrame\u001b[0m\u001b[0;34m.\u001b[0m\u001b[0mfrom_dict\u001b[0m\u001b[0;34m(\u001b[0m\u001b[0mdata\u001b[0m\u001b[0;34m,\u001b[0m \u001b[0morient\u001b[0m\u001b[0;34m=\u001b[0m\u001b[0;34m'index'\u001b[0m\u001b[0;34m,\u001b[0m \u001b[0msorted\u001b[0m\u001b[0;34m=\u001b[0m\u001b[0;32mTrue\u001b[0m\u001b[0;34m)\u001b[0m\u001b[0;34m\u001b[0m\u001b[0;34m\u001b[0m\u001b[0m\n\u001b[0m\u001b[1;32m      2\u001b[0m \u001b[0mdf\u001b[0m\u001b[0;34m.\u001b[0m\u001b[0mhead\u001b[0m\u001b[0;34m(\u001b[0m\u001b[0;34m)\u001b[0m\u001b[0;34m\u001b[0m\u001b[0;34m\u001b[0m\u001b[0m\n",
      "\u001b[0;31mNameError\u001b[0m: name 'data' is not defined"
     ]
    }
   ],
   "source": [
    "df = pd.DataFrame.from_dict(data, orient='index', sorted=True)\n",
    "df.head()"
   ]
  },
  {
   "cell_type": "code",
   "execution_count": 5,
   "metadata": {},
   "outputs": [
    {
     "output_type": "error",
     "ename": "NameError",
     "evalue": "name 'data' is not defined",
     "traceback": [
      "\u001b[0;31m---------------------------------------------------------------------------\u001b[0m",
      "\u001b[0;31mNameError\u001b[0m                                 Traceback (most recent call last)",
      "\u001b[0;32m<ipython-input-5-97d40c6051c8>\u001b[0m in \u001b[0;36m<module>\u001b[0;34m\u001b[0m\n\u001b[0;32m----> 1\u001b[0;31m \u001b[0mprint\u001b[0m\u001b[0;34m(\u001b[0m\u001b[0mlen\u001b[0m\u001b[0;34m(\u001b[0m\u001b[0mdata\u001b[0m\u001b[0;34m.\u001b[0m\u001b[0mkeys\u001b[0m\u001b[0;34m(\u001b[0m\u001b[0;34m)\u001b[0m\u001b[0;34m)\u001b[0m\u001b[0;34m)\u001b[0m\u001b[0;34m\u001b[0m\u001b[0;34m\u001b[0m\u001b[0m\n\u001b[0m\u001b[1;32m      2\u001b[0m \u001b[0mprint\u001b[0m\u001b[0;34m(\u001b[0m\u001b[0mlen\u001b[0m\u001b[0;34m(\u001b[0m\u001b[0mdf\u001b[0m\u001b[0;34m.\u001b[0m\u001b[0mindex\u001b[0m\u001b[0;34m)\u001b[0m\u001b[0;34m)\u001b[0m\u001b[0;34m\u001b[0m\u001b[0;34m\u001b[0m\u001b[0m\n",
      "\u001b[0;31mNameError\u001b[0m: name 'data' is not defined"
     ]
    }
   ],
   "source": [
    "print(len(data.keys()))\n",
    "print(len(df.index))"
   ]
  },
  {
   "cell_type": "code",
   "execution_count": null,
   "metadata": {},
   "outputs": [],
   "source": [
    "df.to_pickle(f'prelim_data_2020.pkl')"
   ]
  },
  {
   "cell_type": "code",
   "execution_count": null,
   "metadata": {},
   "outputs": [],
   "source": []
  },
  {
   "cell_type": "code",
   "execution_count": null,
   "metadata": {},
   "outputs": [],
   "source": []
  }
 ],
 "metadata": {
  "language_info": {
   "name": "python",
   "codemirror_mode": {
    "name": "ipython",
    "version": 3
   },
   "version": "3.7.6-final"
  },
  "orig_nbformat": 2,
  "file_extension": ".py",
  "mimetype": "text/x-python",
  "name": "python",
  "npconvert_exporter": "python",
  "pygments_lexer": "ipython3",
  "version": 3,
  "kernelspec": {
   "name": "python37664bitbaseconda59b4e85916494f3c9c1e0703c1187b9d",
   "display_name": "Python 3.7.6 64-bit ('base': conda)"
  }
 },
 "nbformat": 4,
 "nbformat_minor": 2
}