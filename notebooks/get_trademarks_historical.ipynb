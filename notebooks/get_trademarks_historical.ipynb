{
 "nbformat": 4,
 "nbformat_minor": 2,
 "metadata": {
  "language_info": {
   "name": "python",
   "codemirror_mode": {
    "name": "ipython",
    "version": 3
   },
   "version": "3.7.7-final"
  },
  "orig_nbformat": 2,
  "file_extension": ".py",
  "mimetype": "text/x-python",
  "name": "python",
  "npconvert_exporter": "python",
  "pygments_lexer": "ipython3",
  "version": 3,
  "kernelspec": {
   "name": "python37664bit32a074f4dcce46e88b575ddb89bf7686",
   "display_name": "Python 3.7.6 64-bit"
  }
 },
 "cells": [
  {
   "cell_type": "markdown",
   "execution_count": 3,
   "metadata": {},
   "outputs": [],
   "source": [
    "# Trademark Data: Pre-processing\n",
    "Below I will show how I pre-processed the data that will be used in other parts of this project."
   ]
  },
  {
   "cell_type": "code",
   "execution_count": 1,
   "metadata": {},
   "outputs": [],
   "source": [
    "# Setup the python path\n",
    "import os\n",
    "import sys\n",
    "sys.path.append(os.getcwd()+'/../')\n",
    "import tm_helper as tmh\n",
    "import pandas as pd\n",
    "import re\n",
    "import glob\n",
    "from multiprocessing import Pool"
   ]
  },
  {
   "cell_type": "code",
   "execution_count": 2,
   "metadata": {},
   "outputs": [],
   "source": [
    "# Function to do the actual parsing\n",
    "pref = 'regex_'\n",
    "def parse_tm_data(fl):\n",
    "    # Parse the file\n",
    "    parser = tmh.TmParser(verbose=False)\n",
    "    df = pd.DataFrame.from_dict(parser.parse_cases(fl), orient='index')\n",
    "    \n",
    "    # Save the result\n",
    "    outfile = os.path.basename(fl).split('.xml')[0] + '.pkl'\n",
    "    df.to_pickle(outfile)\n",
    "    return outfile"
   ]
  },
  {
   "cell_type": "code",
   "execution_count": 3,
   "metadata": {
    "tags": [
     "outputPrepend"
    ]
   },
   "outputs": [
    {
     "output_type": "stream",
     "name": "stdout",
     "text": "<multiprocessing.pool.ApplyResult object at 0x11ad92290>\n<multiprocessing.pool.ApplyResult object at 0x11ad92510>\n<multiprocessing.pool.ApplyResult object at 0x11ad926d0>\n<multiprocessing.pool.ApplyResult object at 0x11ad928d0>\n<multiprocessing.pool.ApplyResult object at 0x11ad92ad0>\n<multiprocessing.pool.ApplyResult object at 0x11ad92cd0>\n<multiprocessing.pool.ApplyResult object at 0x11ad92f10>\n<multiprocessing.pool.ApplyResult object at 0x11ad92dd0>\n<multiprocessing.pool.ApplyResult object at 0x11ad98310>\n<multiprocessing.pool.ApplyResult object at 0x11ad984d0>\n<multiprocessing.pool.ApplyResult object at 0x11ad98690>\n<multiprocessing.pool.ApplyResult object at 0x11ad98850>\n<multiprocessing.pool.ApplyResult object at 0x11ad92e50>\n<multiprocessing.pool.ApplyResult object at 0x11ad929d0>\n<multiprocessing.pool.ApplyResult object at 0x11ad925d0>\n<multiprocessing.pool.ApplyResult object at 0x11ad989d0>\n<multiprocessing.pool.ApplyResult object at 0x11ad98590>\n<multiprocessing.pool.ApplyResult object at 0x11ad98210>\n<multiprocessing.pool.ApplyResult object at 0x11ad98a90>\n<multiprocessing.pool.ApplyResult object at 0x11ad98c90>\n<multiprocessing.pool.ApplyResult object at 0x11ad98e90>\n<multiprocessing.pool.ApplyResult object at 0x11ad9e0d0>\n<multiprocessing.pool.ApplyResult object at 0x11ad9e2d0>\n<multiprocessing.pool.ApplyResult object at 0x11ad9e4d0>\n<multiprocessing.pool.ApplyResult object at 0x11ad9e6d0>\n<multiprocessing.pool.ApplyResult object at 0x11ad9e8d0>\n<multiprocessing.pool.ApplyResult object at 0x11ad9ead0>\n<multiprocessing.pool.ApplyResult object at 0x11ad98d90>\n<multiprocessing.pool.ApplyResult object at 0x11ad98a50>\n<multiprocessing.pool.ApplyResult object at 0x11ad98610>\n<multiprocessing.pool.ApplyResult object at 0x11ad922d0>\n<multiprocessing.pool.ApplyResult object at 0x11ad92bd0>\n<multiprocessing.pool.ApplyResult object at 0x11ad9ea90>\n<multiprocessing.pool.ApplyResult object at 0x11ad9e690>\n<multiprocessing.pool.ApplyResult object at 0x11ad9e290>\n<multiprocessing.pool.ApplyResult object at 0x11ad9edd0>\n<multiprocessing.pool.ApplyResult object at 0x11ad9efd0>\n<multiprocessing.pool.ApplyResult object at 0x11ada4210>\n<multiprocessing.pool.ApplyResult object at 0x11ada4410>\n<multiprocessing.pool.ApplyResult object at 0x11ada4610>\n<multiprocessing.pool.ApplyResult object at 0x11ad9eed0>\n<multiprocessing.pool.ApplyResult object at 0x11ad9ef50>\n<multiprocessing.pool.ApplyResult object at 0x11ad9e890>\n<multiprocessing.pool.ApplyResult object at 0x11ad92a90>\n<multiprocessing.pool.ApplyResult object at 0x11ad98790>\n<multiprocessing.pool.ApplyResult object at 0x11ad98c50>\n<multiprocessing.pool.ApplyResult object at 0x11ada4710>\n<multiprocessing.pool.ApplyResult object at 0x11ada43d0>\n<multiprocessing.pool.ApplyResult object at 0x11ada4890>\n<multiprocessing.pool.ApplyResult object at 0x11ada4a10>\n<multiprocessing.pool.ApplyResult object at 0x11ada4bd0>\n<multiprocessing.pool.ApplyResult object at 0x11ada4d90>\n<multiprocessing.pool.ApplyResult object at 0x11ada4f50>\n<multiprocessing.pool.ApplyResult object at 0x11adaf150>\n<multiprocessing.pool.ApplyResult object at 0x11adaf390>\n<multiprocessing.pool.ApplyResult object at 0x11adaf550>\n<multiprocessing.pool.ApplyResult object at 0x11adaf710>\n<multiprocessing.pool.ApplyResult object at 0x11adaf8d0>\n<multiprocessing.pool.ApplyResult object at 0x11adafa90>\n<multiprocessing.pool.ApplyResult object at 0x11adafc50>\n<multiprocessing.pool.ApplyResult object at 0x11adafe10>\n<multiprocessing.pool.ApplyResult object at 0x11ada4c90>\n<multiprocessing.pool.ApplyResult object at 0x11ada49d0>\n<multiprocessing.pool.ApplyResult object at 0x11ada4390>\n<multiprocessing.pool.ApplyResult object at 0x11ad98fd0>\nDONE!\n"
    }
   ],
   "source": [
    "# Define the actual file names that will be loaded\n",
    "datdir = os.getcwd() + '/../data/trademarks_raw_annual'\n",
    "data_files = sorted(glob.glob(datdir + '/apc*.xml'), reverse=True)\n",
    "#datdir = os.getcwd() + '/../data/tm_historical/'\n",
    "#data_files = [datdir + 'test-0.xml']# \n",
    "\n",
    "# Split the operations into pools\n",
    "p = Pool(6) \n",
    "# Loop over all the files\n",
    "for fl in data_files:\n",
    "    outfile = p.apply_async(parse_tm_data, (fl,))\n",
    "    print(outfile)\n",
    "\n",
    "print('DONE!')"
   ]
  },
  {
   "cell_type": "code",
   "execution_count": 5,
   "metadata": {},
   "outputs": [
    {
     "output_type": "error",
     "ename": "NameError",
     "evalue": "name 'df' is not defined",
     "traceback": [
      "\u001b[0;31m---------------------------------------------------------------------------\u001b[0m",
      "\u001b[0;31mNameError\u001b[0m                                 Traceback (most recent call last)",
      "\u001b[0;32m<ipython-input-5-4add252522c8>\u001b[0m in \u001b[0;36m<module>\u001b[0;34m\u001b[0m\n\u001b[0;32m----> 1\u001b[0;31m \u001b[0mdf\u001b[0m\u001b[0;34m.\u001b[0m\u001b[0mtail\u001b[0m\u001b[0;34m(\u001b[0m\u001b[0;34m)\u001b[0m\u001b[0;34m\u001b[0m\u001b[0;34m\u001b[0m\u001b[0m\n\u001b[0m",
      "\u001b[0;31mNameError\u001b[0m: name 'df' is not defined"
     ]
    }
   ],
   "source": [
    "df.tail()"
   ]
  },
  {
   "cell_type": "code",
   "execution_count": 5,
   "metadata": {},
   "outputs": [
    {
     "output_type": "execute_result",
     "data": {
      "text/plain": "fileDate                                       2019-07-24 00:00:00\nregistrationDate                                               NaT\nstatus                                                         969\nmarkId                        THE GREAT SEAL OF THE CHOCTAW NATION\ndescrip             Color is not claimed as a feature of the mark.\nniceClass                                                     None\ncity                                                        Durant\nstate                                                           OK\ncountry                                                         US\nName: 89002386, dtype: object"
     },
     "metadata": {},
     "execution_count": 5
    }
   ],
   "source": [
    "df.loc[89002386]"
   ]
  },
  {
   "cell_type": "code",
   "execution_count": null,
   "metadata": {},
   "outputs": [],
   "source": []
  }
 ]
}